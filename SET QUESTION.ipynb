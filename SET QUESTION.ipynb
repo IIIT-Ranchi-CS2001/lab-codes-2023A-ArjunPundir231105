{
  "nbformat": 4,
  "nbformat_minor": 0,
  "metadata": {
    "colab": {
      "provenance": []
    },
    "kernelspec": {
      "name": "python3",
      "display_name": "Python 3"
    },
    "language_info": {
      "name": "python"
    }
  },
  "cells": [
    {
      "cell_type": "code",
      "execution_count": null,
      "metadata": {
        "id": "UV8vuMaYnZph"
      },
      "outputs": [],
      "source": [
        "import pandas as pd\n",
        "import numpy as np\n",
        "\n",
        "!pip install pandas numpy\n",
        "\n",
        "try:\n",
        "    df = pd.read_csv('/content/AQI_Data (4).csv')\n",
        "except FileNotFoundError:\n",
        "    print(\"Error: 'air_quality_data.csv' not found. Please ensure the file exists and the path is correct.\")\n",
        "    df = pd.DataFrame(columns=['City', 'AQI', 'PM2.5', 'PM10'])\n",
        "    exit()\n",
        "\n",
        "unhealthy_levels = df[df['PM2.5'] > 100]\n",
        "\n",
        "print(\"\\nRows where PM2.5 level exceeds 100:\")\n",
        "print(unhealthy_levels)\n",
        "\n",
        "\n",
        "city_counts = {}\n",
        "for index, row in unhealthy_levels.iterrows():\n",
        "    city = row['City']\n",
        "    if city in city_counts:\n",
        "        city_counts[city] += 1\n",
        "    else:\n",
        "        city_counts[city] = 1\n",
        "\n",
        "print(\"\\nNumber of unhealthy days (PM2.5 > 100) for each city:\")\n",
        "for city, count in city_counts.items():\n",
        "    print(f\"{city}: {count}\")"
      ]
    }
  ]
}